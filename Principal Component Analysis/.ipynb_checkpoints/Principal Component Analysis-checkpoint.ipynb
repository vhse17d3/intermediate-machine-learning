{
 "cells": [
  {
   "cell_type": "code",
   "execution_count": 1,
   "id": "e61990ce",
   "metadata": {},
   "outputs": [
    {
     "name": "stderr",
     "output_type": "stream",
     "text": [
      "C:\\Users\\sonki\\AppData\\Local\\Temp\\ipykernel_10428\\2619038789.py:11: MatplotlibDeprecationWarning: The seaborn styles shipped by Matplotlib are deprecated since 3.6, as they no longer correspond to the styles shipped by seaborn. However, they will remain available as 'seaborn-v0_8-<style>'. Alternatively, directly use the seaborn API instead.\n",
      "  plt.style.use(\"seaborn-whitegrid\")\n"
     ]
    }
   ],
   "source": [
    "import matplotlib.pyplot as plt\n",
    "import numpy as np\n",
    "import pandas as pd\n",
    "import seaborn as sns\n",
    "from sklearn.decomposition import PCA\n",
    "from sklearn.feature_selection import mutual_info_regression\n",
    "from sklearn.model_selection import cross_val_score\n",
    "from xgboost import XGBRegressor\n",
    "\n",
    "# Set Matplotlib defaults\n",
    "plt.style.use(\"seaborn-whitegrid\")\n",
    "plt.rc(\"figure\", autolayout=True)\n",
    "plt.rc(\n",
    "    \"axes\",\n",
    "    labelweight=\"bold\",\n",
    "    labelsize=\"large\",\n",
    "    titleweight=\"bold\",\n",
    "    titlesize=14,\n",
    "    titlepad=10,\n",
    ")\n",
    "\n",
    "\n",
    "def apply_pca(X, standardize=True):\n",
    "    # Standardize\n",
    "    if standardize:\n",
    "        X = (X - X.mean(axis=0)) / X.std(axis=0)\n",
    "    # Create principal components\n",
    "    pca = PCA()\n",
    "    X_pca = pca.fit_transform(X)\n",
    "    # Convert to dataframe\n",
    "    component_names = [f\"PC{i+1}\" for i in range(X_pca.shape[1])]\n",
    "    X_pca = pd.DataFrame(X_pca, columns=component_names)\n",
    "    # Create loadings\n",
    "    loadings = pd.DataFrame(\n",
    "        pca.components_.T,  # transpose the matrix of loadings\n",
    "        columns=component_names,  # so the columns are the principal components\n",
    "        index=X.columns,  # and the rows are the original features\n",
    "    )\n",
    "    return pca, X_pca, loadings\n",
    "\n",
    "\n",
    "def plot_variance(pca, width=8, dpi=100):\n",
    "    # Create figure\n",
    "    fig, axs = plt.subplots(1, 2)\n",
    "    n = pca.n_components_\n",
    "    grid = np.arange(1, n + 1)\n",
    "    # Explained variance\n",
    "    evr = pca.explained_variance_ratio_\n",
    "    axs[0].bar(grid, evr)\n",
    "    axs[0].set(\n",
    "        xlabel=\"Component\", title=\"% Explained Variance\", ylim=(0.0, 1.0)\n",
    "    )\n",
    "    # Cumulative Variance\n",
    "    cv = np.cumsum(evr)\n",
    "    axs[1].plot(np.r_[0, grid], np.r_[0, cv], \"o-\")\n",
    "    axs[1].set(\n",
    "        xlabel=\"Component\", title=\"% Cumulative Variance\", ylim=(0.0, 1.0)\n",
    "    )\n",
    "    # Set up figure\n",
    "    fig.set(figwidth=8, dpi=100)\n",
    "    return axs\n",
    "\n",
    "\n",
    "def make_mi_scores(X, y):\n",
    "    X = X.copy()\n",
    "    for colname in X.select_dtypes([\"object\", \"category\"]):\n",
    "        X[colname], _ = X[colname].factorize()\n",
    "    # All discrete features should now have integer dtypes\n",
    "    discrete_features = [pd.api.types.is_integer_dtype(t) for t in X.dtypes]\n",
    "    mi_scores = mutual_info_regression(X, y, discrete_features=discrete_features, random_state=0)\n",
    "    mi_scores = pd.Series(mi_scores, name=\"MI Scores\", index=X.columns)\n",
    "    mi_scores = mi_scores.sort_values(ascending=False)\n",
    "    return mi_scores\n",
    "\n",
    "\n",
    "def score_dataset(X, y, model=XGBRegressor()):\n",
    "    # Label encoding for categoricals\n",
    "    for colname in X.select_dtypes([\"category\", \"object\"]):\n",
    "        X[colname], _ = X[colname].factorize()\n",
    "    # Metric for Housing competition is RMSLE (Root Mean Squared Log Error)\n",
    "    score = cross_val_score(\n",
    "        model, X, y, cv=5, scoring=\"neg_mean_squared_log_error\",\n",
    "    )\n",
    "    score = -1 * score.mean()\n",
    "    score = np.sqrt(score)\n",
    "    return score\n",
    "\n",
    "\n",
    "df = pd.read_csv(\"./data/ames.csv\")"
   ]
  },
  {
   "cell_type": "markdown",
   "id": "cf1ed131",
   "metadata": {},
   "source": [
    "Hãy chọn một vài tính năng có mối tương quan cao với mục tiêu của chúng tôi, SalePrice."
   ]
  },
  {
   "cell_type": "markdown",
   "id": "c7800813",
   "metadata": {},
   "source": [
    "- Hàm apply_pca:\n",
    "\n",
    "Hàm này thực hiện phân tích thành phần chính (PCA) trên dữ liệu.\n",
    "Chuẩn hóa dữ liệu nếu được yêu cầu.\n",
    "Tạo các thành phần chính và trả về PCA, dữ liệu PCA, và ma trận loadings.\n",
    "- Hàm plot_variance:\n",
    "\n",
    "Hàm này vẽ biểu đồ về phương sai giải thích được bởi từng thành phần chính và phương sai tích lũy.\n",
    "Có thể điều chỉnh chiều rộng và độ phân giải của biểu đồ.\n",
    "- Hàm make_mi_scores:\n",
    "\n",
    "Hàm này tính điểm thông tin chung (MI Scores) giữa mỗi đặc trưng và biến mục tiêu.\n",
    "Sử dụng mutual_info_regression từ thư viện scikit-learn để tính toán điểm MI.\n",
    "Sắp xếp điểm MI theo thứ tự giảm dần.\n",
    "- Hàm score_dataset:\n",
    "\n",
    "Hàm này đánh giá hiệu suất của mô hình, mặc định là XGBoost Regressor.\n",
    "Thực hiện mã hóa nhãn cho các biến phân loại.\n",
    "Sử dụng cross_val_score để tính toán điểm chuẩn RMSLE cho mô hình"
   ]
  },
  {
   "cell_type": "code",
   "execution_count": 2,
   "id": "e9778929",
   "metadata": {},
   "outputs": [
    {
     "name": "stdout",
     "output_type": "stream",
     "text": [
      "Correlation with SalePrice:\n",
      "\n",
      "GarageArea      0.640138\n",
      "YearRemodAdd    0.532974\n",
      "TotalBsmtSF     0.632529\n",
      "GrLivArea       0.706780\n",
      "dtype: float64\n"
     ]
    }
   ],
   "source": [
    "features = [\n",
    "    \"GarageArea\",\n",
    "    \"YearRemodAdd\",\n",
    "    \"TotalBsmtSF\",\n",
    "    \"GrLivArea\",\n",
    "]\n",
    "\n",
    "print(\"Correlation with SalePrice:\\n\")\n",
    "print(df[features].corrwith(df.SalePrice))"
   ]
  },
  {
   "cell_type": "code",
   "execution_count": 3,
   "id": "e578cb28",
   "metadata": {},
   "outputs": [
    {
     "data": {
      "text/plain": [
       "GrLivArea       0.497836\n",
       "GarageArea      0.418882\n",
       "TotalBsmtSF     0.392234\n",
       "YearRemodAdd    0.316050\n",
       "Name: MI Scores, dtype: float64"
      ]
     },
     "execution_count": 3,
     "metadata": {},
     "output_type": "execute_result"
    }
   ],
   "source": [
    "make_mi_scores(df[features], df.SalePrice)\n"
   ]
  },
  {
   "cell_type": "code",
   "execution_count": 9,
   "id": "b7e1bdc0",
   "metadata": {},
   "outputs": [
    {
     "name": "stdout",
     "output_type": "stream",
     "text": [
      "                   PC1       PC2       PC3       PC4\n",
      "GarageArea    0.541229  0.102375 -0.038470  0.833733\n",
      "YearRemodAdd  0.427077 -0.886612 -0.049062 -0.170639\n",
      "TotalBsmtSF   0.510076  0.360778 -0.666836 -0.406192\n",
      "GrLivArea     0.514294  0.270700  0.742592 -0.332837\n",
      "PCA()\n",
      "           PC1       PC2       PC3       PC4\n",
      "0    -0.165346  1.164936  0.233330  0.283527\n",
      "1    -0.639050  0.649561 -0.622155  1.740770\n",
      "2    -0.794227  1.175790 -0.580254 -0.551055\n",
      "3     1.636658  1.907874 -0.675063 -1.052854\n",
      "4     0.293648 -0.610856  0.342374 -0.047752\n",
      "...        ...       ...       ...       ...\n",
      "2925 -0.276496 -0.239255 -0.676658  0.820547\n",
      "2926 -0.822084 -0.414039 -0.593885  0.620322\n",
      "2927 -1.730457 -0.951137 -0.501221 -1.417521\n",
      "2928 -0.049130  0.584898 -0.641779 -0.374198\n",
      "2929  1.090406 -0.106617  0.763916  0.328966\n",
      "\n",
      "[2930 rows x 4 columns]\n"
     ]
    }
   ],
   "source": [
    "X = df.copy()\n",
    "y = X.pop(\"SalePrice\")\n",
    "X = X.loc[:, features]\n",
    "\n",
    "# `apply_pca`, defined above, reproduces the code from the tuorial\n",
    "pca, X_pca, loadings = apply_pca(X)\n",
    "print(loadings)\n",
    "print(X_pca)"
   ]
  },
  {
   "cell_type": "markdown",
   "id": "15b073e9",
   "metadata": {},
   "source": [
    "### Create New Features"
   ]
  },
  {
   "cell_type": "code",
   "execution_count": 5,
   "id": "4120f8dd",
   "metadata": {},
   "outputs": [
    {
     "name": "stdout",
     "output_type": "stream",
     "text": [
      "Your score: 0.13763 RMSLE\n",
      "Your score: 0.13899 RMSLE\n"
     ]
    }
   ],
   "source": [
    "X = df.copy()\n",
    "y = X.pop(\"SalePrice\")\n",
    "\n",
    "X[\"Feature1\"] = X.GrLivArea + X.TotalBsmtSF\n",
    "X[\"Feature2\"] = X.YearRemodAdd * X.TotalBsmtSF\n",
    "\n",
    "score = score_dataset(X, y)\n",
    "print(f\"Your score: {score:.5f} RMSLE\")\n",
    "\n",
    "\n",
    "# Solution 2: Uses components\n",
    "X = df.copy()\n",
    "y = X.pop(\"SalePrice\")\n",
    "\n",
    "X = X.join(X_pca)\n",
    "score = score_dataset(X, y)\n",
    "print(f\"Your score: {score:.5f} RMSLE\")"
   ]
  },
  {
   "cell_type": "markdown",
   "id": "603c81e1",
   "metadata": {},
   "source": [
    "Mục tiêu của cả hai phương pháp là cải thiện hiệu suất của mô hình thông qua việc thêm tính năng mới hoặc sử dụng các thành phần chính được tạo ra từ PCA. Bạn có thể so sánh hiệu suất của chúng để xem cách chúng ảnh hưởng đến khả năng dự đoán của mô hình."
   ]
  },
  {
   "cell_type": "markdown",
   "id": "d6f14a5f",
   "metadata": {},
   "source": [
    "Bạn có thể sử dụng PCA để phát hiện các ngoại lệ trong tập dữ liệu (nghĩa là các điểm dữ liệu cực kỳ bất thường theo một cách nào đó). Các ngoại lệ có thể có tác động bất lợi đến hiệu suất của mô hình, vì vậy bạn nên biết về chúng trong trường hợp bạn cần thực hiện hành động khắc phục. PCA nói riêng có thể cho bạn thấy sự thay đổi bất thường mà có thể không rõ ràng so với các đặc điểm ban đầu: cả những ngôi nhà nhỏ và những ngôi nhà có tầng hầm lớn đều không bình thường, nhưng những ngôi nhà nhỏ có tầng hầm lớn là điều bất thường. Đó là điều mà thành phần chính có thể cho bạn thấy. Chạy ô tiếp theo để hiển thị sơ đồ phân phối cho từng thành phần chính mà bạn đã tạo ở trên."
   ]
  },
  {
   "cell_type": "code",
   "execution_count": 6,
   "id": "4adf5c77",
   "metadata": {},
   "outputs": [
    {
     "data": {
      "image/png": "[encoded data removed]",
      "text/plain": [
       "<Figure size 1000x1000 with 4 Axes>"
      ]
     },
     "metadata": {},
     "output_type": "display_data"
    }
   ],
   "source": [
    "sns.catplot(\n",
    "    y=\"value\",\n",
    "    col=\"variable\",\n",
    "    data=X_pca.melt(),\n",
    "    kind='boxen',\n",
    "    sharey=False,\n",
    "    col_wrap=2,\n",
    ");"
   ]
  },
  {
   "cell_type": "markdown",
   "id": "3d0fba1f",
   "metadata": {},
   "source": [
    "Như bạn có thể thấy, trong mỗi thành phần có một số điểm nằm ở điểm cực trị của phân phối -- tức là các điểm ngoại lệ. \n",
    "\n",
    "Bây giờ hãy chạy ô tiếp theo để xem những ngôi nhà nằm ở cực của một thành phần:"
   ]
  },
  {
   "cell_type": "code",
   "execution_count": 8,
   "id": "531b0252",
   "metadata": {},
   "outputs": [
    {
     "data": {
      "text/html": [
       "<div>\n",
       "<style scoped>\n",
       "    .dataframe tbody tr th:only-of-type {\n",
       "        vertical-align: middle;\n",
       "    }\n",
       "\n",
       "    .dataframe tbody tr th {\n",
       "        vertical-align: top;\n",
       "    }\n",
       "\n",
       "    .dataframe thead th {\n",
       "        text-align: right;\n",
       "    }\n",
       "</style>\n",
       "<table border=\"1\" class=\"dataframe\">\n",
       "  <thead>\n",
       "    <tr style=\"text-align: right;\">\n",
       "      <th></th>\n",
       "      <th>GarageArea</th>\n",
       "      <th>YearRemodAdd</th>\n",
       "      <th>TotalBsmtSF</th>\n",
       "      <th>GrLivArea</th>\n",
       "    </tr>\n",
       "  </thead>\n",
       "  <tbody>\n",
       "    <tr>\n",
       "      <th>1498</th>\n",
       "      <td>1418.0</td>\n",
       "      <td>2008</td>\n",
       "      <td>6110.0</td>\n",
       "      <td>5642.0</td>\n",
       "    </tr>\n",
       "    <tr>\n",
       "      <th>2180</th>\n",
       "      <td>1154.0</td>\n",
       "      <td>2009</td>\n",
       "      <td>5095.0</td>\n",
       "      <td>5095.0</td>\n",
       "    </tr>\n",
       "    <tr>\n",
       "      <th>2181</th>\n",
       "      <td>884.0</td>\n",
       "      <td>2008</td>\n",
       "      <td>3138.0</td>\n",
       "      <td>4676.0</td>\n",
       "    </tr>\n",
       "    <tr>\n",
       "      <th>1760</th>\n",
       "      <td>813.0</td>\n",
       "      <td>1996</td>\n",
       "      <td>2396.0</td>\n",
       "      <td>4476.0</td>\n",
       "    </tr>\n",
       "    <tr>\n",
       "      <th>1767</th>\n",
       "      <td>832.0</td>\n",
       "      <td>1995</td>\n",
       "      <td>2444.0</td>\n",
       "      <td>4316.0</td>\n",
       "    </tr>\n",
       "    <tr>\n",
       "      <th>...</th>\n",
       "      <td>...</td>\n",
       "      <td>...</td>\n",
       "      <td>...</td>\n",
       "      <td>...</td>\n",
       "    </tr>\n",
       "    <tr>\n",
       "      <th>662</th>\n",
       "      <td>0.0</td>\n",
       "      <td>1950</td>\n",
       "      <td>416.0</td>\n",
       "      <td>599.0</td>\n",
       "    </tr>\n",
       "    <tr>\n",
       "      <th>2679</th>\n",
       "      <td>0.0</td>\n",
       "      <td>1950</td>\n",
       "      <td>0.0</td>\n",
       "      <td>912.0</td>\n",
       "    </tr>\n",
       "    <tr>\n",
       "      <th>2879</th>\n",
       "      <td>0.0</td>\n",
       "      <td>1950</td>\n",
       "      <td>0.0</td>\n",
       "      <td>729.0</td>\n",
       "    </tr>\n",
       "    <tr>\n",
       "      <th>780</th>\n",
       "      <td>0.0</td>\n",
       "      <td>1950</td>\n",
       "      <td>0.0</td>\n",
       "      <td>660.0</td>\n",
       "    </tr>\n",
       "    <tr>\n",
       "      <th>1901</th>\n",
       "      <td>0.0</td>\n",
       "      <td>1950</td>\n",
       "      <td>0.0</td>\n",
       "      <td>334.0</td>\n",
       "    </tr>\n",
       "  </tbody>\n",
       "</table>\n",
       "<p>2930 rows × 4 columns</p>\n",
       "</div>"
      ],
      "text/plain": [
       "      GarageArea  YearRemodAdd  TotalBsmtSF  GrLivArea\n",
       "1498      1418.0          2008       6110.0     5642.0\n",
       "2180      1154.0          2009       5095.0     5095.0\n",
       "2181       884.0          2008       3138.0     4676.0\n",
       "1760       813.0          1996       2396.0     4476.0\n",
       "1767       832.0          1995       2444.0     4316.0\n",
       "...          ...           ...          ...        ...\n",
       "662          0.0          1950        416.0      599.0\n",
       "2679         0.0          1950          0.0      912.0\n",
       "2879         0.0          1950          0.0      729.0\n",
       "780          0.0          1950          0.0      660.0\n",
       "1901         0.0          1950          0.0      334.0\n",
       "\n",
       "[2930 rows x 4 columns]"
      ]
     },
     "execution_count": 8,
     "metadata": {},
     "output_type": "execute_result"
    }
   ],
   "source": [
    "# You can change PC1 to PC2, PC3, or PC4\n",
    "component = \"PC1\"\n",
    "\n",
    "idx = X_pca[component].sort_values(ascending=False).index\n",
    "df.loc[idx,  features]"
   ]
  },
  {
   "cell_type": "markdown",
   "id": "ea9e07d6",
   "metadata": {},
   "source": [
    "- idx = X_pca[component].sort_values(ascending=False).index: Lấy chỉ số (index) của các dòng (quản lý thứ tự) trong X_pca dựa trên giá trị của \"PC1\" giảm dần. Điều này sẽ trả về một danh sách các chỉ số đã được sắp xếp theo giảm dần của giá trị \"PC1\".\n",
    "\n",
    "Đoạn mã này giúp bạn quan sát giá trị của các đặc trưng trong DataFrame gốc theo thứ tự giảm dần của giá trị \"PC1\", giúp bạn hiểu rõ hơn về tương quan giữa các đặc trưng và thành phần chính đầu tiên."
   ]
  },
  {
   "cell_type": "markdown",
   "id": "4781df76",
   "metadata": {},
   "source": [
    "# 3) Outlier Detection\n",
    "\n",
    "\n",
    "Lưu ý rằng có một số ngôi nhà nổi bật được liệt kê là Bán một phần trong khu phố Edwards. Bán một phần là điều xảy ra khi có nhiều chủ sở hữu tài sản và một hoặc nhiều người trong số họ bán quyền sở hữu \"một phần\" tài sản của họ. Những hình thức mua bán này thường xảy ra trong quá trình giải quyết tài sản của gia đình hoặc giải thể doanh nghiệp và không được quảng cáo công khai. \n",
    "\n",
    "Nếu bạn đang cố gắng dự đoán giá trị của một ngôi nhà trên thị trường mở, có thể bạn sẽ có lý khi loại bỏ những doanh số bán hàng như thế này khỏi tập dữ liệu của mình -- chúng thực sự là những giá trị ngoại lệ."
   ]
  },
  {
   "cell_type": "code",
   "execution_count": null,
   "id": "1eb04f0e",
   "metadata": {},
   "outputs": [],
   "source": []
  }
 ],
 "metadata": {
  "kernelspec": {
   "display_name": "Python 3 (ipykernel)",
   "language": "python",
   "name": "python3"
  },
  "language_info": {
   "codemirror_mode": {
    "name": "ipython",
    "version": 3
   },
   "file_extension": ".py",
   "mimetype": "text/x-python",
   "name": "python",
   "nbconvert_exporter": "python",
   "pygments_lexer": "ipython3",
   "version": "3.11.4"
  }
 },
 "nbformat": 4,
 "nbformat_minor": 5
}
